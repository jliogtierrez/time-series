{
 "cells": [
  {
   "cell_type": "code",
   "execution_count": 1,
   "metadata": {},
   "outputs": [],
   "source": [
    "import os\n",
    "import pandas as pd"
   ]
  },
  {
   "cell_type": "code",
   "execution_count": 2,
   "metadata": {},
   "outputs": [
    {
     "data": {
      "text/plain": [
       "'C:\\\\Users\\\\usuario\\\\Documents\\\\Data_science\\\\Data\\\\cons'"
      ]
     },
     "execution_count": 2,
     "metadata": {},
     "output_type": "execute_result"
    }
   ],
   "source": [
    "os.chdir(\"C:\\\\Users\\\\usuario\\\\Documents\\\\Data_science\\\\Data\\\\cons\")\n",
    "os.getcwd()"
   ]
  },
  {
   "cell_type": "code",
   "execution_count": 3,
   "metadata": {
    "scrolled": true
   },
   "outputs": [
    {
     "name": "stderr",
     "output_type": "stream",
     "text": [
      "C:\\Users\\usuario\\Anaconda3\\lib\\site-packages\\IPython\\core\\interactiveshell.py:2728: DtypeWarning: Columns (23) have mixed types. Specify dtype option on import or set low_memory=False.\n",
      "  interactivity=interactivity, compiler=compiler, result=result)\n"
     ]
    }
   ],
   "source": [
    "data=pd.read_table(\"revenue_01-04-20172.txt\", sep=\"|\", encoding =  \"ISO-8859-1\")\n",
    "data_1=pd.read_table(\"L40101-03-2017c.txt\", sep=\"|\", encoding =  \"ISO-8859-1\")"
   ]
  },
  {
   "cell_type": "code",
   "execution_count": 38,
   "metadata": {
    "scrolled": true
   },
   "outputs": [
    {
     "name": "stdout",
     "output_type": "stream",
     "text": [
      "<class 'pandas.core.frame.DataFrame'>\n",
      "RangeIndex: 193929 entries, 0 to 193928\n",
      "Data columns (total 24 columns):\n",
      "HOTEL                        193929 non-null object\n",
      "CODIGO_INDIVIDUAL_CENTRAL    193929 non-null int64\n",
      "ANO                          193929 non-null int64\n",
      "CODIGO_GRUPO                 186120 non-null float64\n",
      "GRUPO                        193929 non-null object\n",
      "SEGMENTO                     193929 non-null object\n",
      "ORIGEN                       193929 non-null object\n",
      "ESTADO                       193929 non-null object\n",
      "TPDI_CODI                    185978 non-null object\n",
      "ENTRADA                      193929 non-null object\n",
      "SALIDA                       193929 non-null object\n",
      "CREACION                     193929 non-null object\n",
      "ANULACION                    50214 non-null object\n",
      "TIPO_HAB                     193929 non-null object\n",
      "ENTI_CODI                    192143 non-null object\n",
      "ENTI_NOME                    192143 non-null object\n",
      "NOCHES                       193929 non-null int64\n",
      "MONEDA                       193921 non-null object\n",
      "TARIFA_ALOJ_NETA_POR_DIA     193852 non-null float64\n",
      "SUBESTADO                    193929 non-null object\n",
      "MOTIVO_ANULACION             54449 non-null object\n",
      "VALOR_DESAYUNO_POR_DIA       193929 non-null float64\n",
      "ADULTOS                      193929 non-null int64\n",
      "OVERBOOKING                  1 non-null object\n",
      "dtypes: float64(3), int64(4), object(17)\n",
      "memory usage: 35.5+ MB\n"
     ]
    }
   ],
   "source": [
    "data.info()"
   ]
  },
  {
   "cell_type": "code",
   "execution_count": 32,
   "metadata": {},
   "outputs": [],
   "source": [
    "df=data[[\"HOTEL\", \"ANO\", \"SEGMENTO\", \"ORIGEN\", \"ESTADO\", \"ENTRADA\", \"SALIDA\", \"CREACION\", \"ANULACION\", \"NOCHES\", \"ADULTOS\"]]\n",
    "df=df[df.HOTEL==\"Casa Andina Premium Miraflores\"]"
   ]
  },
  {
   "cell_type": "code",
   "execution_count": 36,
   "metadata": {},
   "outputs": [
    {
     "name": "stdout",
     "output_type": "stream",
     "text": [
      "<class 'pandas.core.frame.DataFrame'>\n",
      "Int64Index: 17066 entries, 0 to 190223\n",
      "Data columns (total 11 columns):\n",
      "HOTEL        17066 non-null object\n",
      "ANO          17066 non-null int64\n",
      "SEGMENTO     17066 non-null object\n",
      "ORIGEN       17066 non-null object\n",
      "ESTADO       17066 non-null object\n",
      "ENTRADA      17066 non-null object\n",
      "SALIDA       17066 non-null object\n",
      "CREACION     17066 non-null object\n",
      "ANULACION    4155 non-null object\n",
      "NOCHES       17066 non-null int64\n",
      "ADULTOS      17066 non-null int64\n",
      "dtypes: int64(3), object(8)\n",
      "memory usage: 1.6+ MB\n"
     ]
    }
   ],
   "source": [
    "df.info()"
   ]
  },
  {
   "cell_type": "code",
   "execution_count": 35,
   "metadata": {},
   "outputs": [
    {
     "data": {
      "text/plain": [
       "Index(['HOTEL', 'CODIGO_INDIVIDUAL_CENTRAL', 'ANO', 'CODIGO_GRUPO', 'GRUPO',\n",
       "       'SEGMENTO', 'ORIGEN', 'ESTADO', 'TPDI_CODI', 'ENTRADA', 'SALIDA',\n",
       "       'CREACION', 'ANULACION', 'TIPO_HAB', 'ENTI_CODI', 'ENTI_NOME', 'NOCHES',\n",
       "       'MONEDA', 'TARIFA_ALOJ_NETA', 'SUBESTADO', 'MOTIVO_ANULACION',\n",
       "       'TARIF_PROM_ALOJ_DESAY_NETA_DIA', 'VALOR_DESAYUNO_POR_DIA', 'ADULTOS',\n",
       "       'OVERBOOKING'],\n",
       "      dtype='object')"
      ]
     },
     "execution_count": 35,
     "metadata": {},
     "output_type": "execute_result"
    }
   ],
   "source": [
    "data_1.columns"
   ]
  },
  {
   "cell_type": "code",
   "execution_count": 34,
   "metadata": {},
   "outputs": [
    {
     "data": {
      "text/plain": [
       "Index(['HOTEL', 'CODIGO_INDIVIDUAL_CENTRAL', 'ANO', 'CODIGO_GRUPO', 'GRUPO',\n",
       "       'SEGMENTO', 'ORIGEN', 'ESTADO', 'TPDI_CODI', 'ENTRADA', 'SALIDA',\n",
       "       'CREACION', 'ANULACION', 'TIPO_HAB', 'ENTI_CODI', 'ENTI_NOME', 'NOCHES',\n",
       "       'MONEDA', 'TARIFA_ALOJ_NETA_POR_DIA', 'SUBESTADO', 'MOTIVO_ANULACION',\n",
       "       'VALOR_DESAYUNO_POR_DIA', 'ADULTOS', 'OVERBOOKING'],\n",
       "      dtype='object')"
      ]
     },
     "execution_count": 34,
     "metadata": {},
     "output_type": "execute_result"
    }
   ],
   "source": [
    "data.columns"
   ]
  }
 ],
 "metadata": {
  "kernelspec": {
   "display_name": "Python 3",
   "language": "python",
   "name": "python3"
  },
  "language_info": {
   "codemirror_mode": {
    "name": "ipython",
    "version": 3
   },
   "file_extension": ".py",
   "mimetype": "text/x-python",
   "name": "python",
   "nbconvert_exporter": "python",
   "pygments_lexer": "ipython3",
   "version": "3.6.4"
  }
 },
 "nbformat": 4,
 "nbformat_minor": 2
}
