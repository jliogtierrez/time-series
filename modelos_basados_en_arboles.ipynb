{
 "cells": [
  {
   "cell_type": "code",
   "execution_count": 1,
   "metadata": {},
   "outputs": [],
   "source": [
    "%load_ext autoreload\n",
    "%autoreload 2\n",
    "%matplotlib inline"
   ]
  },
  {
   "cell_type": "code",
   "execution_count": 2,
   "metadata": {},
   "outputs": [
    {
     "name": "stderr",
     "output_type": "stream",
     "text": [
      "C:\\Users\\usuario\\Anaconda3\\lib\\site-packages\\statsmodels\\compat\\pandas.py:56: FutureWarning: The pandas.core.datetools module is deprecated and will be removed in a future version. Please use the pandas.tseries module instead.\n",
      "  from pandas.core import datetools\n"
     ]
    }
   ],
   "source": [
    "import os\n",
    "import pandas as pd\n",
    "import numpy as np\n",
    "from datetime import datetime  \n",
    "from datetime import timedelta\n",
    "import matplotlib.pyplot as plt\n",
    "\n",
    "from sklearn.metrics import mean_squared_error, mean_absolute_error\n",
    "\n",
    "import statsmodels.formula.api as smf            # statistics and econometrics\n",
    "import statsmodels.tsa.api as smt\n",
    "import statsmodels.api as sm\n",
    "import scipy.stats as scs\n",
    "\n",
    "import seaborn as sns\n",
    "\n",
    "import xgboost as xgb\n",
    "\n",
    "from sklearn import datasets, linear_model\n",
    "from sklearn.model_selection import train_test_split\n",
    "import math"
   ]
  },
  {
   "cell_type": "code",
   "execution_count": 3,
   "metadata": {},
   "outputs": [
    {
     "data": {
      "text/plain": [
       "'C:\\\\Users\\\\usuario\\\\Documents\\\\Data_science\\\\data'"
      ]
     },
     "execution_count": 3,
     "metadata": {},
     "output_type": "execute_result"
    }
   ],
   "source": [
    "os.chdir(\"C:\\\\Users\\\\usuario\\\\Documents\\\\Data_science\\\\data\\\\\")\n",
    "os.getcwd()"
   ]
  },
  {
   "cell_type": "code",
   "execution_count": 4,
   "metadata": {},
   "outputs": [],
   "source": [
    "data_2015_1Q=pd.read_excel(\"Q/2015_1H.xlsx\")\n",
    "data_2015_2Q=pd.read_excel(\"Q/2015_2H.xlsx\")\n",
    "data_2016_1Q=pd.read_excel(\"Q/2016_1Q.xls\")\n",
    "data_2016_2Q=pd.read_excel(\"Q/2016_2Q.xls\")\n",
    "data_2016_3Q=pd.read_excel(\"Q/2016_3Q.xls\")\n",
    "data_2016_4Q=pd.read_excel(\"Q/2016_4Q.xls\")\n",
    "data_2017_1Q=pd.read_excel(\"Q/2017_1Q.xls\")\n",
    "data_2017_2Q=pd.read_excel(\"Q/2017_2Q.xls\")\n",
    "data_2017_3Q=pd.read_excel(\"Q/2017_3Q.xls\")\n",
    "data_2017_4Q=pd.read_excel(\"Q/2017_4Q.xls\")\n",
    "data_2018_1Q=pd.read_excel(\"Q/2018_1Q.xls\")\n",
    "data_2018_2Q=pd.read_excel(\"Q/2018_2Q.xls\")\n",
    "data_2018_3Q=pd.read_excel(\"Q/2018_3Q.xls\")\n",
    "data_2018_4Q=pd.read_excel(\"Q/2018_4Q.xls\")"
   ]
  },
  {
   "cell_type": "code",
   "execution_count": 5,
   "metadata": {},
   "outputs": [],
   "source": [
    "historical_data = pd.concat([data_2015_1Q, data_2015_2Q\n",
    "                    , data_2016_1Q, data_2016_2Q, data_2016_3Q, data_2016_4Q\n",
    "                    , data_2017_1Q, data_2017_2Q, data_2017_3Q, data_2017_4Q\n",
    "                    , data_2018_1Q, data_2018_2Q, data_2018_3Q, data_2018_4Q\n",
    "                   ])"
   ]
  },
  {
   "cell_type": "code",
   "execution_count": 6,
   "metadata": {},
   "outputs": [],
   "source": [
    "meses=[\"Ene\", \"Feb\", \"Mar\", \"Abr\", \"May\", \"Jun\", \"Jul\", \"Ago\", \"Sep\", \"Oct\", \"Nov\", \"Dic\"]\n",
    "codigo=range(1, 13)\n",
    "cod_mes=pd.DataFrame({\"mes\":meses, \"cod_mes\":codigo})"
   ]
  },
  {
   "cell_type": "code",
   "execution_count": 7,
   "metadata": {},
   "outputs": [],
   "source": [
    "historical_data=historical_data.merge(cod_mes, left_on=\"MesEstadia\", right_on=\"mes\", how=\"left\")"
   ]
  },
  {
   "cell_type": "code",
   "execution_count": 8,
   "metadata": {},
   "outputs": [],
   "source": [
    "historical_data[\"fecha\"]=pd.to_datetime(historical_data.AñoEstadia.map(str)+\"-\"+historical_data.cod_mes.map(str)+\"-\"+historical_data.DiaEstadia.map(str))"
   ]
  },
  {
   "cell_type": "code",
   "execution_count": 23,
   "metadata": {},
   "outputs": [
    {
     "name": "stderr",
     "output_type": "stream",
     "text": [
      "C:\\Users\\usuario\\Anaconda3\\lib\\site-packages\\ipykernel_launcher.py:1: RuntimeWarning: divide by zero encountered in true_divide\n",
      "  \"\"\"Entry point for launching an IPython kernel.\n"
     ]
    }
   ],
   "source": [
    "historical_data[\"ADR_fixed\"]=np.divide(historical_data.RoomRev, historical_data.Noches)"
   ]
  },
  {
   "cell_type": "code",
   "execution_count": 25,
   "metadata": {},
   "outputs": [],
   "source": [
    "hotel=\"CAP MIRAFLORES\"\n",
    "fecha_actual=\"2018-11-12\"\n",
    "df=historical_data[(historical_data.Hotel==hotel) &(historical_data.fecha<=fecha_actual)]"
   ]
  },
  {
   "cell_type": "code",
   "execution_count": 26,
   "metadata": {},
   "outputs": [],
   "source": [
    "resumen={\"OCUP\":sum, \"DiaSemanaEstadia\":\"first\", \"fecha\":\"first\", \"ADR_fixed\":\"mean\"}\n",
    "df_1=df.groupby(by=[\"AñoEstadia\", \"MesEstadia\", \"DiaEstadia\"], as_index=False).agg(resumen)"
   ]
  },
  {
   "cell_type": "code",
   "execution_count": 27,
   "metadata": {},
   "outputs": [],
   "source": [
    "df_1.MesEstadia=df_1.MesEstadia.astype(\"category\")\n",
    "df_1.DiaSemanaEstadia=df_1.DiaSemanaEstadia.astype(\"category\")"
   ]
  },
  {
   "cell_type": "code",
   "execution_count": 28,
   "metadata": {},
   "outputs": [],
   "source": [
    "df_1=pd.get_dummies(df_1, columns=[\"MesEstadia\", \"DiaSemanaEstadia\"])"
   ]
  },
  {
   "cell_type": "code",
   "execution_count": 29,
   "metadata": {},
   "outputs": [
    {
     "data": {
      "text/plain": [
       "Index(['AñoEstadia', 'DiaEstadia', 'OCUP', 'fecha', 'ADR_fixed',\n",
       "       'MesEstadia_Abr', 'MesEstadia_Ago', 'MesEstadia_Dic', 'MesEstadia_Ene',\n",
       "       'MesEstadia_Feb', 'MesEstadia_Jul', 'MesEstadia_Jun', 'MesEstadia_Mar',\n",
       "       'MesEstadia_May', 'MesEstadia_Nov', 'MesEstadia_Oct', 'MesEstadia_Sep',\n",
       "       'DiaSemanaEstadia_Dom', 'DiaSemanaEstadia_Jue', 'DiaSemanaEstadia_Lun',\n",
       "       'DiaSemanaEstadia_Mar', 'DiaSemanaEstadia_Mié', 'DiaSemanaEstadia_Sáb',\n",
       "       'DiaSemanaEstadia_Vie'],\n",
       "      dtype='object')"
      ]
     },
     "execution_count": 29,
     "metadata": {},
     "output_type": "execute_result"
    }
   ],
   "source": [
    "df_1.columns"
   ]
  },
  {
   "cell_type": "code",
   "execution_count": 30,
   "metadata": {},
   "outputs": [],
   "source": [
    "def mean_absolute_percentage_error(y_true, y_pred): \n",
    "    return np.mean(np.abs((y_true - y_pred) / y_true)) \n",
    "\n",
    "def medidas_de_error(y, y_pred):\n",
    "    print(\"MAE\", mean_absolute_error(y, y_pred), \n",
    "          \"\\n\"\"MAPE\", mean_absolute_percentage_error(y, y_pred), \n",
    "          \"\\n\"\"RMSE\", np.sqrt(mean_squared_error(y, y_pred)))"
   ]
  },
  {
   "cell_type": "code",
   "execution_count": 74,
   "metadata": {},
   "outputs": [],
   "source": [
    "df_train, df_test=train_test_split(df_1, test_size=0.1)"
   ]
  },
  {
   "cell_type": "code",
   "execution_count": 75,
   "metadata": {},
   "outputs": [],
   "source": [
    "variables_indep=['AñoEstadia', 'DiaEstadia', 'MesEstadia_Abr',\n",
    "       'MesEstadia_Ago', 'MesEstadia_Dic', 'MesEstadia_Ene', 'MesEstadia_Feb',\n",
    "       'MesEstadia_Jul', 'MesEstadia_Jun', 'MesEstadia_Mar', 'MesEstadia_May',\n",
    "       'MesEstadia_Nov', 'MesEstadia_Oct', 'MesEstadia_Sep',\n",
    "       'DiaSemanaEstadia_Dom', 'DiaSemanaEstadia_Jue', 'DiaSemanaEstadia_Lun',\n",
    "       'DiaSemanaEstadia_Mar', 'DiaSemanaEstadia_Mié', 'DiaSemanaEstadia_Sáb',\n",
    "       'DiaSemanaEstadia_Vie']"
   ]
  },
  {
   "cell_type": "code",
   "execution_count": 76,
   "metadata": {},
   "outputs": [],
   "source": [
    "# variables_indep=['DiaEstadia', 'MesEstadia_Abr',\n",
    "#        'MesEstadia_Ago', 'MesEstadia_Dic', 'MesEstadia_Ene', 'MesEstadia_Feb',\n",
    "#        'MesEstadia_Jul', 'MesEstadia_Jun', 'MesEstadia_Mar', 'MesEstadia_May',\n",
    "#        'MesEstadia_Nov', 'MesEstadia_Oct', 'MesEstadia_Sep',\n",
    "#        'DiaSemanaEstadia_Dom', 'DiaSemanaEstadia_Jue', 'DiaSemanaEstadia_Lun',\n",
    "#        'DiaSemanaEstadia_Mar', 'DiaSemanaEstadia_Mié', 'DiaSemanaEstadia_Sáb',\n",
    "#        'DiaSemanaEstadia_Vie']"
   ]
  },
  {
   "cell_type": "code",
   "execution_count": 77,
   "metadata": {},
   "outputs": [
    {
     "data": {
      "text/plain": [
       "<matplotlib.axes._subplots.AxesSubplot at 0x2accacfaef0>"
      ]
     },
     "execution_count": 77,
     "metadata": {},
     "output_type": "execute_result"
    },
    {
     "data": {
      "image/png": "[encoded data removed]",
      "text/plain": [
       "<matplotlib.figure.Figure at 0x2accac63160>"
      ]
     },
     "metadata": {
      "needs_background": "light"
     },
     "output_type": "display_data"
    }
   ],
   "source": [
    "y_train=df_train[\"OCUP\"]\n",
    "X_train=df_train[variables_indep]\n",
    "y_test=df_test[\"OCUP\"]\n",
    "X_test=df_test[variables_indep]\n",
    "xgb_model=xgb.XGBRegressor(n_jobs=-1,n_estimators=100,subsample=0.75, max_depth=8, eta=0.01, alpha=0.01, gamma=0.01, silent=True)\n",
    "xgb_model.fit(X_train, y_train)\n",
    "xgb.plot_importance(xgb_model, max_num_features=15)"
   ]
  },
  {
   "cell_type": "code",
   "execution_count": 78,
   "metadata": {
    "scrolled": true
   },
   "outputs": [
    {
     "name": "stdout",
     "output_type": "stream",
     "text": [
      "MAE 0.04225960821220232 \n",
      "MAPE 0.05623430894092933 \n",
      "RMSE 0.05230231515589172\n",
      "MAE 0.09284713969182556 \n",
      "MAPE 0.1221191798273347 \n",
      "RMSE 0.11520275172616076\n"
     ]
    }
   ],
   "source": [
    "y_p_train=xgb_model.predict(X_train)\n",
    "y_p_test=xgb_model.predict(X_test)\n",
    "medidas_de_error(y_train, y_p_train)\n",
    "medidas_de_error(y_test, y_p_test)"
   ]
  },
  {
   "cell_type": "code",
   "execution_count": 22,
   "metadata": {},
   "outputs": [],
   "source": [
    "feriados=pd.DataFrame(columns=[\"fecha\", \"DiaSemana\", \"feriado\"])"
   ]
  },
  {
   "cell_type": "code",
   "execution_count": 23,
   "metadata": {},
   "outputs": [],
   "source": [
    "feriados=feriados.append({\"fecha\":pd.to_datetime(\"2015-01-01\"), \"DiaSemana\":\"Jue\", \"feriado\":\"Anho nuevo\"}, ignore_index=True)\n",
    "feriados=feriados.append({\"fecha\":pd.to_datetime(\"2015-04-02\"), \"DiaSemana\":\"Jue\", \"feriado\":\"Jueves Santo\"}, ignore_index=True)\n",
    "feriados=feriados.append({\"fecha\":pd.to_datetime(\"2015-04-03\"), \"DiaSemana\":\"Vie\", \"feriado\":\"Viernes Santo\"}, ignore_index=True)\n",
    "feriados=feriados.append({\"fecha\":pd.to_datetime(\"2015-05-01\"), \"DiaSemana\":\"Vie\", \"feriado\":\"Día del trabajo\"}, ignore_index=True)\n",
    "feriados=feriados.append({\"fecha\":pd.to_datetime(\"2015-06-29\"), \"DiaSemana\":\"Lun\", \"feriado\":\"San Pedro y San Pablo\"}, ignore_index=True)\n",
    "feriados=feriados.append({\"fecha\":pd.to_datetime(\"2015-07-28\"), \"DiaSemana\":\"Mar\", \"feriado\":\"Día de la Independencia\"}, ignore_index=True)\n",
    "feriados=feriados.append({\"fecha\":pd.to_datetime(\"2015-07-29\"), \"DiaSemana\":\"Mie\", \"feriado\":\"Día de las Fuerzas Armadas y la Policía del Perú\"}, ignore_index=True)\n",
    "feriados=feriados.append({\"fecha\":pd.to_datetime(\"2015-08-30\"), \"DiaSemana\":\"Dom\", \"feriado\":\"Día de Santa Rosa de Lima\"}, ignore_index=True)\n",
    "feriados=feriados.append({\"fecha\":pd.to_datetime(\"2015-10-08\"), \"DiaSemana\":\"Jue\", \"feriado\":\"Combate Naval de Angamos\"}, ignore_index=True)\n",
    "feriados=feriados.append({\"fecha\":pd.to_datetime(\"2015-11-01\"), \"DiaSemana\":\"Dom\", \"feriado\":\"Día de Todos Los Santos\"}, ignore_index=True)\n",
    "feriados=feriados.append({\"fecha\":pd.to_datetime(\"2015-12-08\"), \"DiaSemana\":\"Mar\", \"feriado\":\"Inmaculada Concepción\"}, ignore_index=True)\n",
    "feriados=feriados.append({\"fecha\":pd.to_datetime(\"2015-12-25\"), \"DiaSemana\":\"Vie\", \"feriado\":\"Navidad\"}, ignore_index=True)"
   ]
  },
  {
   "cell_type": "code",
   "execution_count": 24,
   "metadata": {},
   "outputs": [],
   "source": [
    "feriados=feriados.append({\"fecha\":pd.to_datetime(\"2016-01-01\"), \"DiaSemana\":\"Vie\", \"feriado\":\"Anho nuevo\"}, ignore_index=True)\n",
    "feriados=feriados.append({\"fecha\":pd.to_datetime(\"2016-03-24\"), \"DiaSemana\":\"Jue\", \"feriado\":\"Jueves Santo\"}, ignore_index=True)\n",
    "feriados=feriados.append({\"fecha\":pd.to_datetime(\"2016-03-25\"), \"DiaSemana\":\"Vie\", \"feriado\":\"Viernes Santo\"}, ignore_index=True)\n",
    "feriados=feriados.append({\"fecha\":pd.to_datetime(\"2016-05-01\"), \"DiaSemana\":\"Dom\", \"feriado\":\"Día del trabajo\"}, ignore_index=True)\n",
    "feriados=feriados.append({\"fecha\":pd.to_datetime(\"2016-06-29\"), \"DiaSemana\":\"Mie\", \"feriado\":\"San Pedro y San Pablo\"}, ignore_index=True)\n",
    "feriados=feriados.append({\"fecha\":pd.to_datetime(\"2016-07-28\"), \"DiaSemana\":\"Jue\", \"feriado\":\"Día de la Independencia\"}, ignore_index=True)\n",
    "feriados=feriados.append({\"fecha\":pd.to_datetime(\"2016-07-29\"), \"DiaSemana\":\"Vie\", \"feriado\":\"Día de las Fuerzas Armadas y la Policía del Perú\"}, ignore_index=True)\n",
    "feriados=feriados.append({\"fecha\":pd.to_datetime(\"2016-08-30\"), \"DiaSemana\":\"Mar\", \"feriado\":\"Día de Santa Rosa de Lima\"}, ignore_index=True)\n",
    "feriados=feriados.append({\"fecha\":pd.to_datetime(\"2016-10-08\"), \"DiaSemana\":\"Sab\", \"feriado\":\"Combate Naval de Angamos\"}, ignore_index=True)\n",
    "feriados=feriados.append({\"fecha\":pd.to_datetime(\"2016-11-01\"), \"DiaSemana\":\"Mar\", \"feriado\":\"Día de Todos Los Santos\"}, ignore_index=True)\n",
    "feriados=feriados.append({\"fecha\":pd.to_datetime(\"2016-11-17\"), \"DiaSemana\":\"Jue\", \"feriado\":\"APEC\"}, ignore_index=True)\n",
    "feriados=feriados.append({\"fecha\":pd.to_datetime(\"2016-11-18\"), \"DiaSemana\":\"Vie\", \"feriado\":\"APEC\"}, ignore_index=True)\n",
    "feriados=feriados.append({\"fecha\":pd.to_datetime(\"2016-11-19\"), \"DiaSemana\":\"Sab\", \"feriado\":\"APEC\"}, ignore_index=True)\n",
    "feriados=feriados.append({\"fecha\":pd.to_datetime(\"2016-12-08\"), \"DiaSemana\":\"Jue\", \"feriado\":\"Inmaculada Concepción\"}, ignore_index=True)\n",
    "feriados=feriados.append({\"fecha\":pd.to_datetime(\"2016-12-25\"), \"DiaSemana\":\"Dom\", \"feriado\":\"Navidad\"}, ignore_index=True)"
   ]
  },
  {
   "cell_type": "code",
   "execution_count": 25,
   "metadata": {},
   "outputs": [],
   "source": [
    "feriados=feriados.append({\"fecha\":pd.to_datetime(\"2017-01-01\"), \"DiaSemana\":\"Dom\", \"feriado\":\"Anho nuevo\"}, ignore_index=True)\n",
    "feriados=feriados.append({\"fecha\":pd.to_datetime(\"2017-04-13\"), \"DiaSemana\":\"Jue\", \"feriado\":\"Jueves Santo\"}, ignore_index=True)\n",
    "feriados=feriados.append({\"fecha\":pd.to_datetime(\"2017-04-14\"), \"DiaSemana\":\"Vie\", \"feriado\":\"Viernes Santo\"}, ignore_index=True)\n",
    "feriados=feriados.append({\"fecha\":pd.to_datetime(\"2017-05-01\"), \"DiaSemana\":\"Lun\", \"feriado\":\"Día del trabajo\"}, ignore_index=True)\n",
    "feriados=feriados.append({\"fecha\":pd.to_datetime(\"2017-06-29\"), \"DiaSemana\":\"Jue\", \"feriado\":\"San Pedro y San Pablo\"}, ignore_index=True)\n",
    "feriados=feriados.append({\"fecha\":pd.to_datetime(\"2017-07-28\"), \"DiaSemana\":\"Vie\", \"feriado\":\"Día de la Independencia\"}, ignore_index=True)\n",
    "feriados=feriados.append({\"fecha\":pd.to_datetime(\"2017-07-29\"), \"DiaSemana\":\"Sab\", \"feriado\":\"Día de las Fuerzas Armadas y la Policía del Perú\"}, ignore_index=True)\n",
    "feriados=feriados.append({\"fecha\":pd.to_datetime(\"2017-08-30\"), \"DiaSemana\":\"Mie\", \"feriado\":\"Día de Santa Rosa de Lima\"}, ignore_index=True)\n",
    "feriados=feriados.append({\"fecha\":pd.to_datetime(\"2017-10-08\"), \"DiaSemana\":\"Dom\", \"feriado\":\"Combate Naval de Angamos\"}, ignore_index=True)\n",
    "feriados=feriados.append({\"fecha\":pd.to_datetime(\"2017-11-01\"), \"DiaSemana\":\"Mie\", \"feriado\":\"Día de Todos Los Santos\"}, ignore_index=True)\n",
    "feriados=feriados.append({\"fecha\":pd.to_datetime(\"2017-12-08\"), \"DiaSemana\":\"Vie\", \"feriado\":\"Inmaculada Concepción\"}, ignore_index=True)\n",
    "feriados=feriados.append({\"fecha\":pd.to_datetime(\"2017-12-25\"), \"DiaSemana\":\"Lun\", \"feriado\":\"Navidad\"}, ignore_index=True)"
   ]
  },
  {
   "cell_type": "code",
   "execution_count": 26,
   "metadata": {},
   "outputs": [],
   "source": [
    "feriados=feriados.append({\"fecha\":pd.to_datetime(\"2018-01-01\"), \"DiaSemana\":\"Lun\", \"feriado\":\"Anho nuevo\"}, ignore_index=True)\n",
    "feriados=feriados.append({\"fecha\":pd.to_datetime(\"2018-03-29\"), \"DiaSemana\":\"Jue\", \"feriado\":\"Jueves Santo\"}, ignore_index=True)\n",
    "feriados=feriados.append({\"fecha\":pd.to_datetime(\"2018-03-30\"), \"DiaSemana\":\"Vie\", \"feriado\":\"Viernes Santo\"}, ignore_index=True)\n",
    "feriados=feriados.append({\"fecha\":pd.to_datetime(\"2018-05-01\"), \"DiaSemana\":\"Mar\", \"feriado\":\"Día del trabajo\"}, ignore_index=True)\n",
    "feriados=feriados.append({\"fecha\":pd.to_datetime(\"2018-06-29\"), \"DiaSemana\":\"Vie\", \"feriado\":\"San Pedro y San Pablo\"}, ignore_index=True)\n",
    "feriados=feriados.append({\"fecha\":pd.to_datetime(\"2018-07-28\"), \"DiaSemana\":\"Sab\", \"feriado\":\"Día de la Independencia\"}, ignore_index=True)\n",
    "feriados=feriados.append({\"fecha\":pd.to_datetime(\"2018-07-29\"), \"DiaSemana\":\"Dom\", \"feriado\":\"Día de las Fuerzas Armadas y la Policía del Perú\"}, ignore_index=True)\n",
    "feriados=feriados.append({\"fecha\":pd.to_datetime(\"2018-08-30\"), \"DiaSemana\":\"Jue\", \"feriado\":\"Día de Santa Rosa de Lima\"}, ignore_index=True)\n",
    "feriados=feriados.append({\"fecha\":pd.to_datetime(\"2018-10-08\"), \"DiaSemana\":\"Lun\", \"feriado\":\"Combate Naval de Angamos\"}, ignore_index=True)\n",
    "feriados=feriados.append({\"fecha\":pd.to_datetime(\"2018-11-01\"), \"DiaSemana\":\"Jue\", \"feriado\":\"Día de Todos Los Santos\"}, ignore_index=True)\n",
    "feriados=feriados.append({\"fecha\":pd.to_datetime(\"2018-12-08\"), \"DiaSemana\":\"Sab\", \"feriado\":\"Inmaculada Concepción\"}, ignore_index=True)\n",
    "feriados=feriados.append({\"fecha\":pd.to_datetime(\"2018-12-25\"), \"DiaSemana\":\"Mar\", \"feriado\":\"Navidad\"}, ignore_index=True)"
   ]
  },
  {
   "cell_type": "code",
   "execution_count": 27,
   "metadata": {},
   "outputs": [],
   "source": [
    "feriados[\"flag_feriado\"]=1"
   ]
  },
  {
   "cell_type": "code",
   "execution_count": 28,
   "metadata": {},
   "outputs": [],
   "source": [
    "df_2=df_1.merge(feriados[[\"fecha\", \"flag_feriado\"]], on=[\"fecha\"], how=\"left\").fillna(0)"
   ]
  },
  {
   "cell_type": "code",
   "execution_count": 29,
   "metadata": {
    "scrolled": true
   },
   "outputs": [
    {
     "data": {
      "text/html": [
       "<div>\n",
       "<style scoped>\n",
       "    .dataframe tbody tr th:only-of-type {\n",
       "        vertical-align: middle;\n",
       "    }\n",
       "\n",
       "    .dataframe tbody tr th {\n",
       "        vertical-align: top;\n",
       "    }\n",
       "\n",
       "    .dataframe thead th {\n",
       "        text-align: right;\n",
       "    }\n",
       "</style>\n",
       "<table border=\"1\" class=\"dataframe\">\n",
       "  <thead>\n",
       "    <tr style=\"text-align: right;\">\n",
       "      <th></th>\n",
       "      <th>AñoEstadia</th>\n",
       "      <th>DiaEstadia</th>\n",
       "      <th>OCUP</th>\n",
       "      <th>fecha</th>\n",
       "      <th>MesEstadia_Abr</th>\n",
       "      <th>MesEstadia_Ago</th>\n",
       "      <th>MesEstadia_Dic</th>\n",
       "      <th>MesEstadia_Ene</th>\n",
       "      <th>MesEstadia_Feb</th>\n",
       "      <th>MesEstadia_Jul</th>\n",
       "      <th>...</th>\n",
       "      <th>MesEstadia_Oct</th>\n",
       "      <th>MesEstadia_Sep</th>\n",
       "      <th>DiaSemanaEstadia_Dom</th>\n",
       "      <th>DiaSemanaEstadia_Jue</th>\n",
       "      <th>DiaSemanaEstadia_Lun</th>\n",
       "      <th>DiaSemanaEstadia_Mar</th>\n",
       "      <th>DiaSemanaEstadia_Mié</th>\n",
       "      <th>DiaSemanaEstadia_Sáb</th>\n",
       "      <th>DiaSemanaEstadia_Vie</th>\n",
       "      <th>flag_feriado</th>\n",
       "    </tr>\n",
       "  </thead>\n",
       "  <tbody>\n",
       "    <tr>\n",
       "      <th>0</th>\n",
       "      <td>2015</td>\n",
       "      <td>1</td>\n",
       "      <td>0.6426</td>\n",
       "      <td>2015-04-01</td>\n",
       "      <td>1</td>\n",
       "      <td>0</td>\n",
       "      <td>0</td>\n",
       "      <td>0</td>\n",
       "      <td>0</td>\n",
       "      <td>0</td>\n",
       "      <td>...</td>\n",
       "      <td>0</td>\n",
       "      <td>0</td>\n",
       "      <td>0</td>\n",
       "      <td>0</td>\n",
       "      <td>0</td>\n",
       "      <td>0</td>\n",
       "      <td>1</td>\n",
       "      <td>0</td>\n",
       "      <td>0</td>\n",
       "      <td>0.0</td>\n",
       "    </tr>\n",
       "    <tr>\n",
       "      <th>1</th>\n",
       "      <td>2015</td>\n",
       "      <td>2</td>\n",
       "      <td>0.7505</td>\n",
       "      <td>2015-04-02</td>\n",
       "      <td>1</td>\n",
       "      <td>0</td>\n",
       "      <td>0</td>\n",
       "      <td>0</td>\n",
       "      <td>0</td>\n",
       "      <td>0</td>\n",
       "      <td>...</td>\n",
       "      <td>0</td>\n",
       "      <td>0</td>\n",
       "      <td>0</td>\n",
       "      <td>1</td>\n",
       "      <td>0</td>\n",
       "      <td>0</td>\n",
       "      <td>0</td>\n",
       "      <td>0</td>\n",
       "      <td>0</td>\n",
       "      <td>1.0</td>\n",
       "    </tr>\n",
       "    <tr>\n",
       "      <th>2</th>\n",
       "      <td>2015</td>\n",
       "      <td>3</td>\n",
       "      <td>0.7980</td>\n",
       "      <td>2015-04-03</td>\n",
       "      <td>1</td>\n",
       "      <td>0</td>\n",
       "      <td>0</td>\n",
       "      <td>0</td>\n",
       "      <td>0</td>\n",
       "      <td>0</td>\n",
       "      <td>...</td>\n",
       "      <td>0</td>\n",
       "      <td>0</td>\n",
       "      <td>0</td>\n",
       "      <td>0</td>\n",
       "      <td>0</td>\n",
       "      <td>0</td>\n",
       "      <td>0</td>\n",
       "      <td>0</td>\n",
       "      <td>1</td>\n",
       "      <td>1.0</td>\n",
       "    </tr>\n",
       "    <tr>\n",
       "      <th>3</th>\n",
       "      <td>2015</td>\n",
       "      <td>4</td>\n",
       "      <td>0.8113</td>\n",
       "      <td>2015-04-04</td>\n",
       "      <td>1</td>\n",
       "      <td>0</td>\n",
       "      <td>0</td>\n",
       "      <td>0</td>\n",
       "      <td>0</td>\n",
       "      <td>0</td>\n",
       "      <td>...</td>\n",
       "      <td>0</td>\n",
       "      <td>0</td>\n",
       "      <td>0</td>\n",
       "      <td>0</td>\n",
       "      <td>0</td>\n",
       "      <td>0</td>\n",
       "      <td>0</td>\n",
       "      <td>1</td>\n",
       "      <td>0</td>\n",
       "      <td>0.0</td>\n",
       "    </tr>\n",
       "    <tr>\n",
       "      <th>4</th>\n",
       "      <td>2015</td>\n",
       "      <td>5</td>\n",
       "      <td>0.6226</td>\n",
       "      <td>2015-04-05</td>\n",
       "      <td>1</td>\n",
       "      <td>0</td>\n",
       "      <td>0</td>\n",
       "      <td>0</td>\n",
       "      <td>0</td>\n",
       "      <td>0</td>\n",
       "      <td>...</td>\n",
       "      <td>0</td>\n",
       "      <td>0</td>\n",
       "      <td>1</td>\n",
       "      <td>0</td>\n",
       "      <td>0</td>\n",
       "      <td>0</td>\n",
       "      <td>0</td>\n",
       "      <td>0</td>\n",
       "      <td>0</td>\n",
       "      <td>0.0</td>\n",
       "    </tr>\n",
       "  </tbody>\n",
       "</table>\n",
       "<p>5 rows × 24 columns</p>\n",
       "</div>"
      ],
      "text/plain": [
       "   AñoEstadia  DiaEstadia    OCUP      fecha  MesEstadia_Abr  MesEstadia_Ago  \\\n",
       "0        2015           1  0.6426 2015-04-01               1               0   \n",
       "1        2015           2  0.7505 2015-04-02               1               0   \n",
       "2        2015           3  0.7980 2015-04-03               1               0   \n",
       "3        2015           4  0.8113 2015-04-04               1               0   \n",
       "4        2015           5  0.6226 2015-04-05               1               0   \n",
       "\n",
       "   MesEstadia_Dic  MesEstadia_Ene  MesEstadia_Feb  MesEstadia_Jul  \\\n",
       "0               0               0               0               0   \n",
       "1               0               0               0               0   \n",
       "2               0               0               0               0   \n",
       "3               0               0               0               0   \n",
       "4               0               0               0               0   \n",
       "\n",
       "       ...       MesEstadia_Oct  MesEstadia_Sep  DiaSemanaEstadia_Dom  \\\n",
       "0      ...                    0               0                     0   \n",
       "1      ...                    0               0                     0   \n",
       "2      ...                    0               0                     0   \n",
       "3      ...                    0               0                     0   \n",
       "4      ...                    0               0                     1   \n",
       "\n",
       "   DiaSemanaEstadia_Jue  DiaSemanaEstadia_Lun  DiaSemanaEstadia_Mar  \\\n",
       "0                     0                     0                     0   \n",
       "1                     1                     0                     0   \n",
       "2                     0                     0                     0   \n",
       "3                     0                     0                     0   \n",
       "4                     0                     0                     0   \n",
       "\n",
       "   DiaSemanaEstadia_Mié  DiaSemanaEstadia_Sáb  DiaSemanaEstadia_Vie  \\\n",
       "0                     1                     0                     0   \n",
       "1                     0                     0                     0   \n",
       "2                     0                     0                     1   \n",
       "3                     0                     1                     0   \n",
       "4                     0                     0                     0   \n",
       "\n",
       "   flag_feriado  \n",
       "0           0.0  \n",
       "1           1.0  \n",
       "2           1.0  \n",
       "3           0.0  \n",
       "4           0.0  \n",
       "\n",
       "[5 rows x 24 columns]"
      ]
     },
     "execution_count": 29,
     "metadata": {},
     "output_type": "execute_result"
    }
   ],
   "source": [
    "df_2.head()"
   ]
  },
  {
   "cell_type": "code",
   "execution_count": 30,
   "metadata": {},
   "outputs": [],
   "source": [
    "df_train, df_test=train_test_split(df_2, test_size=0.3)"
   ]
  },
  {
   "cell_type": "code",
   "execution_count": 33,
   "metadata": {},
   "outputs": [
    {
     "data": {
      "text/plain": [
       "<matplotlib.axes._subplots.AxesSubplot at 0x196709eb400>"
      ]
     },
     "execution_count": 33,
     "metadata": {},
     "output_type": "execute_result"
    },
    {
     "data": {
      "image/png": "[encoded data removed]",
      "text/plain": [
       "<matplotlib.figure.Figure at 0x196670cd4a8>"
      ]
     },
     "metadata": {
      "needs_background": "light"
     },
     "output_type": "display_data"
    }
   ],
   "source": [
    "variables_indep=[ 'AñoEstadia', 'DiaEstadia','MesEstadia_Abr',\n",
    "       'MesEstadia_Ago', 'MesEstadia_Dic', 'MesEstadia_Ene', 'MesEstadia_Feb',\n",
    "       'MesEstadia_Jul', 'MesEstadia_Jun', 'MesEstadia_Mar', 'MesEstadia_May',\n",
    "       'MesEstadia_Nov', 'MesEstadia_Oct', 'MesEstadia_Sep',\n",
    "       'DiaSemanaEstadia_Dom', 'DiaSemanaEstadia_Jue', 'DiaSemanaEstadia_Lun',\n",
    "       'DiaSemanaEstadia_Mar', 'DiaSemanaEstadia_Mié', 'DiaSemanaEstadia_Sáb',\n",
    "       'DiaSemanaEstadia_Vie', \"flag_feriado\"]\n",
    "y_train=df_train[\"OCUP\"]\n",
    "X_train=df_train[variables_indep]\n",
    "y_test=df_test[\"OCUP\"]\n",
    "X_test=df_test[variables_indep]\n",
    "xgb_model=xgb.XGBRegressor()\n",
    "xgb_model.fit(X_train, y_train)\n",
    "xgb.plot_importance(xgb_model, max_num_features=15)"
   ]
  },
  {
   "cell_type": "code",
   "execution_count": 34,
   "metadata": {},
   "outputs": [
    {
     "name": "stdout",
     "output_type": "stream",
     "text": [
      "MAE 0.07965742045949963 \n",
      "MAPE 0.11120386387282867 \n",
      "RMSE 0.10061448512384863\n",
      "MAE 0.08215407899412379 \n",
      "MAPE 0.11257522404603304 \n",
      "RMSE 0.10350018642877142\n"
     ]
    }
   ],
   "source": [
    "y_p_train=xgb_model.predict(X_train)\n",
    "y_p_test=xgb_model.predict(X_test)\n",
    "medidas_de_error(y_train, y_p_train)\n",
    "medidas_de_error(y_test, y_p_test)"
   ]
  },
  {
   "cell_type": "code",
   "execution_count": null,
   "metadata": {},
   "outputs": [],
   "source": []
  }
 ],
 "metadata": {
  "kernelspec": {
   "display_name": "Python 3",
   "language": "python",
   "name": "python3"
  },
  "language_info": {
   "codemirror_mode": {
    "name": "ipython",
    "version": 3
   },
   "file_extension": ".py",
   "mimetype": "text/x-python",
   "name": "python",
   "nbconvert_exporter": "python",
   "pygments_lexer": "ipython3",
   "version": "3.6.4"
  }
 },
 "nbformat": 4,
 "nbformat_minor": 2
}
